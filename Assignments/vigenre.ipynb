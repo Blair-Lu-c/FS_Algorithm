{
 "cells": [
  {
   "cell_type": "code",
   "execution_count": 33,
   "id": "96d97d77",
   "metadata": {},
   "outputs": [],
   "source": [
    "class Vignere:\n",
    "    #key_list=[]\n",
    "    alpha_num = {\"a\":0,\"b\":1,\"c\":2,\"d\":3,\"e\":4,\"f\":5,\"g\":6,\"h\":7,\"i\":8,\"j\":9,\"k\":10,\"l\":11,\"m\":12,\"n\":13,\"o\":14,\"p\":15,\"q\":16,\"r\":17,\"s\":18,\"t\":19,\"u\":20,\"v\":21,\"w\":22,\"x\":23,\"y\":24,\"z\":25}\n",
    "    num_alpha = []\n",
    "    \n",
    "    def __init__ (self, key):\n",
    "        self.key_list=[]\n",
    "        self.name_key = key\n",
    "        # i will get the values of the key\n",
    "        for c in key:\n",
    "            self.key_list.append(self.alpha_num[c])\n",
    "        self.num_alpha = list(self.alpha_num)\n",
    "    \n",
    "    def encrypt(self, message):\n",
    "        cipher = \"\"\n",
    "        # we need to look through the message\n",
    "        i = 0\n",
    "        while i< len(message):\n",
    "            c = message[i]\n",
    "            b=self.alpha_num[c]+self.key_list[i%len(self.key_list)]\n",
    "            if b>25:\n",
    "                b = b-26\n",
    "            cipher+= self.num_alpha[b]\n",
    "            i+=1\n",
    "        return cipher\n",
    "        \n",
    "        \n",
    "        \n",
    "            \n",
    "        \n",
    "        \n",
    "        \n",
    "        "
   ]
  },
  {
   "cell_type": "code",
   "execution_count": null,
   "id": "8c056b4d",
   "metadata": {},
   "outputs": [],
   "source": []
  },
  {
   "cell_type": "code",
   "execution_count": null,
   "id": "a325e5ed",
   "metadata": {},
   "outputs": [],
   "source": []
  },
  {
   "cell_type": "code",
   "execution_count": 34,
   "id": "e3e7382e",
   "metadata": {},
   "outputs": [
    {
     "name": "stdout",
     "output_type": "stream",
     "text": [
      "cdefghijklmnopqrstuvwxyzab\n",
      "hpwsf\n"
     ]
    }
   ],
   "source": [
    "v = Vignere(\"c\")\n",
    "print(v.encrypt(\"abcdefghijklmnopqrstuvwxyz\"))\n",
    "\n",
    "z = Vignere(\"abc\")\n",
    "print(z.encrypt(\"house\"))"
   ]
  },
  {
   "cell_type": "code",
   "execution_count": 22,
   "id": "7ab8193f",
   "metadata": {},
   "outputs": [],
   "source": [
    "def e(key):\n",
    "    for c in key:\n",
    "        print(ord(c)-97)"
   ]
  },
  {
   "cell_type": "code",
   "execution_count": 23,
   "id": "9994e228",
   "metadata": {},
   "outputs": [
    {
     "name": "stdout",
     "output_type": "stream",
     "text": [
      "0\n",
      "11\n",
      "8\n",
      "4\n",
      "17\n",
      "7\n",
      "16\n",
      "8\n",
      "17\n",
      "25\n"
     ]
    }
   ],
   "source": [
    "e(\"alierhqirz\")"
   ]
  },
  {
   "cell_type": "code",
   "execution_count": 29,
   "id": "875f72b6",
   "metadata": {},
   "outputs": [],
   "source": [
    "letter_list=list('ABCDEFGHIJKLMNOPQRSTUVWXYZ')"
   ]
  },
  {
   "cell_type": "code",
   "execution_count": 30,
   "id": "bcd0950e",
   "metadata": {},
   "outputs": [
    {
     "data": {
      "text/plain": [
       "['A',\n",
       " 'B',\n",
       " 'C',\n",
       " 'D',\n",
       " 'E',\n",
       " 'F',\n",
       " 'G',\n",
       " 'H',\n",
       " 'I',\n",
       " 'J',\n",
       " 'K',\n",
       " 'L',\n",
       " 'M',\n",
       " 'N',\n",
       " 'O',\n",
       " 'P',\n",
       " 'Q',\n",
       " 'R',\n",
       " 'S',\n",
       " 'T',\n",
       " 'U',\n",
       " 'V',\n",
       " 'W',\n",
       " 'X',\n",
       " 'Y',\n",
       " 'Z']"
      ]
     },
     "execution_count": 30,
     "metadata": {},
     "output_type": "execute_result"
    }
   ],
   "source": [
    "letter_list"
   ]
  },
  {
   "cell_type": "code",
   "execution_count": 31,
   "id": "ddd557f0",
   "metadata": {},
   "outputs": [],
   "source": [
    "class Vignere:\n",
    "    # define a Alphabet list\n",
    "    letter_list = list('ABCDEFGHIJKLMNOPQRSTUVWXYZ')\n",
    "    \n",
    "    # create key list\n",
    "    def __init__(self, key):\n",
    "        self.key_list=[]    # an empty list to store key list\n",
    "        self.key = key\n",
    "        # convert each character of key to number\n",
    "        for ch in key:\n",
    "            self.key_list.append(ord(ch.upper())-65)\n",
    "    \n",
    "    # create Encrypt function\n",
    "    def encrypt(self, plaintext):\n",
    "        ciphertext = \"\" # an empty string to store encrypt'\n",
    "        i = 0 # initialize an index to 0\n",
    "        for ch in plaintext:\n",
    "            ciphertext += letter_list[ord(ch.upper())-65 + self.key_list[i]]\n",
    "        \n",
    "        \n",
    "    def decrypt(self, ciphertext):\n",
    "        pass"
   ]
  },
  {
   "cell_type": "code",
   "execution_count": 35,
   "id": "77a3768e",
   "metadata": {},
   "outputs": [
    {
     "data": {
      "text/plain": [
       "25"
      ]
     },
     "execution_count": 35,
     "metadata": {},
     "output_type": "execute_result"
    }
   ],
   "source": [
    "-1 % 26"
   ]
  },
  {
   "cell_type": "code",
   "execution_count": null,
   "id": "8ff38aa0",
   "metadata": {},
   "outputs": [],
   "source": []
  }
 ],
 "metadata": {
  "kernelspec": {
   "display_name": "Python 3 (ipykernel)",
   "language": "python",
   "name": "python3"
  },
  "language_info": {
   "codemirror_mode": {
    "name": "ipython",
    "version": 3
   },
   "file_extension": ".py",
   "mimetype": "text/x-python",
   "name": "python",
   "nbconvert_exporter": "python",
   "pygments_lexer": "ipython3",
   "version": "3.8.12"
  },
  "toc": {
   "base_numbering": 1,
   "nav_menu": {},
   "number_sections": true,
   "sideBar": true,
   "skip_h1_title": false,
   "title_cell": "Table of Contents",
   "title_sidebar": "Contents",
   "toc_cell": false,
   "toc_position": {},
   "toc_section_display": true,
   "toc_window_display": false
  }
 },
 "nbformat": 4,
 "nbformat_minor": 5
}
